{
 "cells": [
  {
   "cell_type": "code",
   "execution_count": 9,
   "metadata": {},
   "outputs": [],
   "source": [
    "import torch\n",
    "from scipy.io import loadmat\n",
    "from scr.Dataset import Dataset\n",
    "from scr.utils import *\n",
    "\n",
    "from pathlib import Path"
   ]
  },
  {
   "cell_type": "code",
   "execution_count": 3,
   "metadata": {},
   "outputs": [],
   "source": [
    "db = Path('data')"
   ]
  },
  {
   "cell_type": "code",
   "execution_count": 5,
   "metadata": {},
   "outputs": [],
   "source": [
    "conf={\n",
    "   'SIFT': {\n",
    "        'output': 'feats-SIFT',\n",
    "        'preprocessing': {\n",
    "            'grayscale': False,\n",
    "            'resize_max': 1600,\n",
    "            'resize_force': False,\n",
    "        },\n",
    "    },\n",
    "}\n",
    "\n",
    "dataset = Dataset(db, conf['SIFT'])"
   ]
  },
  {
   "cell_type": "code",
   "execution_count": 13,
   "metadata": {},
   "outputs": [
    {
     "name": "stdout",
     "output_type": "stream",
     "text": [
      "[array([[[255, 255, 255],\n",
      "        [255, 255, 255],\n",
      "        [255, 255, 255],\n",
      "        ...,\n",
      "        [ 26,  38,  86],\n",
      "        [ 18,  31,  75],\n",
      "        [ 15,  30,  73]],\n",
      "\n",
      "       [[255, 255, 255],\n",
      "        [255, 255, 255],\n",
      "        [255, 255, 255],\n",
      "        ...,\n",
      "        [ 52,  65, 110],\n",
      "        [ 52,  65, 109],\n",
      "        [ 46,  61, 102]],\n",
      "\n",
      "       [[255, 255, 255],\n",
      "        [255, 255, 255],\n",
      "        [255, 255, 255],\n",
      "        ...,\n",
      "        [ 33,  46,  90],\n",
      "        [ 43,  58,  99],\n",
      "        [ 65,  80, 121]],\n",
      "\n",
      "       ...,\n",
      "\n",
      "       [[ 71,  77,  75],\n",
      "        [ 70,  76,  74],\n",
      "        [ 69,  75,  73],\n",
      "        ...,\n",
      "        [129, 129, 131],\n",
      "        [129, 129, 131],\n",
      "        [130, 130, 132]],\n",
      "\n",
      "       [[ 75,  81,  79],\n",
      "        [ 74,  80,  78],\n",
      "        [ 74,  80,  78],\n",
      "        ...,\n",
      "        [130, 130, 132],\n",
      "        [131, 131, 133],\n",
      "        [132, 132, 134]],\n",
      "\n",
      "       [[ 77,  83,  81],\n",
      "        [ 77,  83,  81],\n",
      "        [ 77,  83,  81],\n",
      "        ...,\n",
      "        [130, 130, 132],\n",
      "        [130, 130, 132],\n",
      "        [132, 132, 134]]], dtype=uint8)]\n"
     ]
    }
   ],
   "source": [
    "print([dataset[0]['image']])"
   ]
  },
  {
   "cell_type": "code",
   "execution_count": 11,
   "metadata": {},
   "outputs": [
    {
     "data": {
      "text/plain": [
       "'british_museum/00350405_2611802704.jpg'"
      ]
     },
     "execution_count": 11,
     "metadata": {},
     "output_type": "execute_result"
    }
   ],
   "source": [
    "dataset.names[0]"
   ]
  }
 ],
 "metadata": {
  "kernelspec": {
   "display_name": "Python 3.9.1 64-bit",
   "language": "python",
   "name": "python3"
  },
  "language_info": {
   "codemirror_mode": {
    "name": "ipython",
    "version": 3
   },
   "file_extension": ".py",
   "mimetype": "text/x-python",
   "name": "python",
   "nbconvert_exporter": "python",
   "pygments_lexer": "ipython3",
   "version": "3.9.1"
  },
  "orig_nbformat": 4,
  "vscode": {
   "interpreter": {
    "hash": "0d591c6e422414675974e227c13f5382000c440fedd3c5006ef2be5d887f0ba7"
   }
  }
 },
 "nbformat": 4,
 "nbformat_minor": 2
}
